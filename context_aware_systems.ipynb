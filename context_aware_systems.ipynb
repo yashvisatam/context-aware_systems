{
  "nbformat": 4,
  "nbformat_minor": 0,
  "metadata": {
    "colab": {
      "provenance": [],
      "authorship_tag": "ABX9TyNHivdrTcH0U0qIOD1gdMvh",
      "include_colab_link": true
    },
    "kernelspec": {
      "name": "python3",
      "display_name": "Python 3"
    },
    "language_info": {
      "name": "python"
    }
  },
  "cells": [
    {
      "cell_type": "markdown",
      "metadata": {
        "id": "view-in-github",
        "colab_type": "text"
      },
      "source": [
        "<a href=\"https://colab.research.google.com/github/yashvisatam/context-aware_systems/blob/main/context_aware_systems.ipynb\" target=\"_parent\"><img src=\"https://colab.research.google.com/assets/colab-badge.svg\" alt=\"Open In Colab\"/></a>"
      ]
    },
    {
      "cell_type": "code",
      "execution_count": 16,
      "metadata": {
        "id": "9JPSRWyNZLQa",
        "colab": {
          "base_uri": "https://localhost:8080/"
        },
        "outputId": "e7f56761-0059-4bb4-be63-14ae80cfdd8a"
      },
      "outputs": [
        {
          "output_type": "stream",
          "name": "stdout",
          "text": [
            "Enter your location : Dwarkadas J. Sanghvi College of Engineering\n",
            "Latitude:  19.107542350000003\n",
            "Longitude:  72.83719989007818\n"
          ]
        }
      ],
      "source": [
        "import requests\n",
        "import urllib.parse\n",
        "\n",
        "address = input(\"Enter your location : \")\n",
        "url = 'https://nominatim.openstreetmap.org/search/' + urllib.parse.quote(address) +'?format=json'\n",
        "\n",
        "response = requests.get(url).json()\n",
        "lat = response[0][\"lat\"]\n",
        "lon = response[0][\"lon\"]\n",
        "print(\"Latitude: \",lat)\n",
        "print(\"Longitude: \",lon)"
      ]
    },
    {
      "cell_type": "code",
      "source": [
        "import folium\n",
        "\n",
        "m = folium.Map(location=[lat,lon])"
      ],
      "metadata": {
        "id": "Fz3JQJgM7aEO"
      },
      "execution_count": 17,
      "outputs": []
    },
    {
      "cell_type": "code",
      "source": [
        "tooltip = \"Your location\"\n",
        "\n",
        "folium.Marker(\n",
        "    [lat, lon], popup=\"My location\", tooltip=tooltip\n",
        ").add_to(m)"
      ],
      "metadata": {
        "colab": {
          "base_uri": "https://localhost:8080/"
        },
        "id": "by3rXEvV7dGG",
        "outputId": "93ad7a00-2b50-49f9-91cb-557bde462685"
      },
      "execution_count": 18,
      "outputs": [
        {
          "output_type": "execute_result",
          "data": {
            "text/plain": [
              "<folium.map.Marker at 0x7f968292aef0>"
            ]
          },
          "metadata": {},
          "execution_count": 18
        }
      ]
    },
    {
      "cell_type": "code",
      "source": [
        "mood = input(\"How is your mood?\\n1.Happy\\n2.Sad\\n3.Angry\\n4.Bored\\n5.Excited\\nYour mood is : \")"
      ],
      "metadata": {
        "colab": {
          "base_uri": "https://localhost:8080/"
        },
        "id": "CuN77o7z7kAY",
        "outputId": "7b83bbc2-587a-48d7-a8a2-8cebb7a9312f"
      },
      "execution_count": 19,
      "outputs": [
        {
          "name": "stdout",
          "output_type": "stream",
          "text": [
            "How is your mood?\n",
            "1.Happy\n",
            "2.Sad\n",
            "3.Angry\n",
            "4.Bored\n",
            "5.Excited\n",
            "Your mood is : excited\n"
          ]
        }
      ]
    },
    {
      "cell_type": "code",
      "source": [
        "if mood==\"happy\" or mood==\"Happy\":\n",
        "  add = [\"Inorbit Mall Malad\", \"Infiniti Mall\", \"Oberoi Mall\", \"Vishnu Shivam Mall, kandivali east\"]\n",
        "elif mood==\"sad\" or mood==\"Sad\":\n",
        "  add = [\"Siddhivinayak Mandir, dadar west\", \"Basilica of Our Lady of the Mount\", \"Haji Ali Dargah\"]\n",
        "elif mood==\"angry\" or mood==\"Angry\":\n",
        "  add = [\"Marine lines\", \"Juhu Beach\", \"Aksa Beach\" , \"Gorai Beach\", \"Versova Beach\"]\n",
        "elif mood==\"bored\" or mood==\"Bored\":\n",
        "   add = [\"Ajanta Caves\", \"Kanheri Caves\", \"Elephanta Caves\", \"Jehangir Art Gallery\", \"National Museum of Indian Cinema\"]\n",
        "else:\n",
        "  add = [ \"Taj Santacruz\", \"Sanjay Gandhi National Park\", \"Gateway of India\", \"Jio Garden\"]"
      ],
      "metadata": {
        "id": "7XxBPCTn8CF3"
      },
      "execution_count": 20,
      "outputs": []
    },
    {
      "cell_type": "code",
      "source": [
        "for i in range(len(add)):\n",
        "  address = add[i]\n",
        "  url = 'https://nominatim.openstreetmap.org/search/' + urllib.parse.quote(address) +'?format=json'\n",
        "\n",
        "  response = requests.get(url).json()\n",
        "  lat1 = response[0][\"lat\"]\n",
        "  lon1 = response[0][\"lon\"]\n",
        "  print(add[i], \":\")\n",
        "  print(lat1)\n",
        "  print(lon1)\n",
        "  folium.Marker([lat1, lon1], icon=folium.Icon(color=\"red\")).add_to(m)"
      ],
      "metadata": {
        "colab": {
          "base_uri": "https://localhost:8080/"
        },
        "id": "RzdiwOsY8FGI",
        "outputId": "34b4c3aa-378a-4d86-fc0b-0a4580d5437f"
      },
      "execution_count": 21,
      "outputs": [
        {
          "output_type": "stream",
          "name": "stdout",
          "text": [
            "Taj Santacruz :\n",
            "19.0926936\n",
            "72.85439692426203\n",
            "Sanjay Gandhi National Park :\n",
            "19.2093238\n",
            "72.9163268\n",
            "Gateway of India :\n",
            "18.9225901\n",
            "72.83433537485362\n",
            "Jio Garden :\n",
            "19.06240125\n",
            "72.86257506049617\n"
          ]
        }
      ]
    },
    {
      "cell_type": "code",
      "source": [
        "m"
      ],
      "metadata": {
        "colab": {
          "base_uri": "https://localhost:8080/",
          "height": 968
        },
        "id": "5qToIPsa8Izb",
        "outputId": "c0deb637-ddf8-48de-8c2c-f933b8dc6e0b"
      },
      "execution_count": 22,
      "outputs": [
        {
          "output_type": "execute_result",
          "data": {
            "text/plain": [
              "<folium.folium.Map at 0x7f9653d860e0>"
            ],
            "text/html": [
              "<div style=\"width:100%;\"><div style=\"position:relative;width:100%;height:0;padding-bottom:60%;\"><span style=\"color:#565656\">Make this Notebook Trusted to load map: File -> Trust Notebook</span><iframe srcdoc=\"&lt;!DOCTYPE html&gt;\n",
              "&lt;html&gt;\n",
              "&lt;head&gt;\n",
              "    \n",
              "    &lt;meta http-equiv=&quot;content-type&quot; content=&quot;text/html; charset=UTF-8&quot; /&gt;\n",
              "    \n",
              "        &lt;script&gt;\n",
              "            L_NO_TOUCH = false;\n",
              "            L_DISABLE_3D = false;\n",
              "        &lt;/script&gt;\n",
              "    \n",
              "    &lt;style&gt;html, body {width: 100%;height: 100%;margin: 0;padding: 0;}&lt;/style&gt;\n",
              "    &lt;style&gt;#map {position:absolute;top:0;bottom:0;right:0;left:0;}&lt;/style&gt;\n",
              "    &lt;script src=&quot;https://cdn.jsdelivr.net/npm/leaflet@1.9.3/dist/leaflet.js&quot;&gt;&lt;/script&gt;\n",
              "    &lt;script src=&quot;https://code.jquery.com/jquery-1.12.4.min.js&quot;&gt;&lt;/script&gt;\n",
              "    &lt;script src=&quot;https://cdn.jsdelivr.net/npm/bootstrap@5.2.2/dist/js/bootstrap.bundle.min.js&quot;&gt;&lt;/script&gt;\n",
              "    &lt;script src=&quot;https://cdnjs.cloudflare.com/ajax/libs/Leaflet.awesome-markers/2.0.2/leaflet.awesome-markers.js&quot;&gt;&lt;/script&gt;\n",
              "    &lt;link rel=&quot;stylesheet&quot; href=&quot;https://cdn.jsdelivr.net/npm/leaflet@1.9.3/dist/leaflet.css&quot;/&gt;\n",
              "    &lt;link rel=&quot;stylesheet&quot; href=&quot;https://cdn.jsdelivr.net/npm/bootstrap@5.2.2/dist/css/bootstrap.min.css&quot;/&gt;\n",
              "    &lt;link rel=&quot;stylesheet&quot; href=&quot;https://netdna.bootstrapcdn.com/bootstrap/3.0.0/css/bootstrap.min.css&quot;/&gt;\n",
              "    &lt;link rel=&quot;stylesheet&quot; href=&quot;https://cdn.jsdelivr.net/npm/@fortawesome/fontawesome-free@6.2.0/css/all.min.css&quot;/&gt;\n",
              "    &lt;link rel=&quot;stylesheet&quot; href=&quot;https://cdnjs.cloudflare.com/ajax/libs/Leaflet.awesome-markers/2.0.2/leaflet.awesome-markers.css&quot;/&gt;\n",
              "    &lt;link rel=&quot;stylesheet&quot; href=&quot;https://cdn.jsdelivr.net/gh/python-visualization/folium/folium/templates/leaflet.awesome.rotate.min.css&quot;/&gt;\n",
              "    \n",
              "            &lt;meta name=&quot;viewport&quot; content=&quot;width=device-width,\n",
              "                initial-scale=1.0, maximum-scale=1.0, user-scalable=no&quot; /&gt;\n",
              "            &lt;style&gt;\n",
              "                #map_b6b3157b821f17fd50dc3cc02b62c22b {\n",
              "                    position: relative;\n",
              "                    width: 100.0%;\n",
              "                    height: 100.0%;\n",
              "                    left: 0.0%;\n",
              "                    top: 0.0%;\n",
              "                }\n",
              "                .leaflet-container { font-size: 1rem; }\n",
              "            &lt;/style&gt;\n",
              "        \n",
              "&lt;/head&gt;\n",
              "&lt;body&gt;\n",
              "    \n",
              "    \n",
              "            &lt;div class=&quot;folium-map&quot; id=&quot;map_b6b3157b821f17fd50dc3cc02b62c22b&quot; &gt;&lt;/div&gt;\n",
              "        \n",
              "&lt;/body&gt;\n",
              "&lt;script&gt;\n",
              "    \n",
              "    \n",
              "            var map_b6b3157b821f17fd50dc3cc02b62c22b = L.map(\n",
              "                &quot;map_b6b3157b821f17fd50dc3cc02b62c22b&quot;,\n",
              "                {\n",
              "                    center: [19.107542350000003, 72.83719989007818],\n",
              "                    crs: L.CRS.EPSG3857,\n",
              "                    zoom: 10,\n",
              "                    zoomControl: true,\n",
              "                    preferCanvas: false,\n",
              "                }\n",
              "            );\n",
              "\n",
              "            \n",
              "\n",
              "        \n",
              "    \n",
              "            var tile_layer_24c04cb80563f01f8ee7c720aaca9e6a = L.tileLayer(\n",
              "                &quot;https://{s}.tile.openstreetmap.org/{z}/{x}/{y}.png&quot;,\n",
              "                {&quot;attribution&quot;: &quot;Data by \\u0026copy; \\u003ca target=\\&quot;_blank\\&quot; href=\\&quot;http://openstreetmap.org\\&quot;\\u003eOpenStreetMap\\u003c/a\\u003e, under \\u003ca target=\\&quot;_blank\\&quot; href=\\&quot;http://www.openstreetmap.org/copyright\\&quot;\\u003eODbL\\u003c/a\\u003e.&quot;, &quot;detectRetina&quot;: false, &quot;maxNativeZoom&quot;: 18, &quot;maxZoom&quot;: 18, &quot;minZoom&quot;: 0, &quot;noWrap&quot;: false, &quot;opacity&quot;: 1, &quot;subdomains&quot;: &quot;abc&quot;, &quot;tms&quot;: false}\n",
              "            ).addTo(map_b6b3157b821f17fd50dc3cc02b62c22b);\n",
              "        \n",
              "    \n",
              "            var marker_0ecf840956a7c823db9e4a5aafefcf4f = L.marker(\n",
              "                [19.107542350000003, 72.83719989007818],\n",
              "                {}\n",
              "            ).addTo(map_b6b3157b821f17fd50dc3cc02b62c22b);\n",
              "        \n",
              "    \n",
              "        var popup_84497a17a3d3af0422f69b5eea7c6aa1 = L.popup({&quot;maxWidth&quot;: &quot;100%&quot;});\n",
              "\n",
              "        \n",
              "            \n",
              "                var html_a9cc24dfcf6bd0913501e762fd22a9f1 = $(`&lt;div id=&quot;html_a9cc24dfcf6bd0913501e762fd22a9f1&quot; style=&quot;width: 100.0%; height: 100.0%;&quot;&gt;My location&lt;/div&gt;`)[0];\n",
              "                popup_84497a17a3d3af0422f69b5eea7c6aa1.setContent(html_a9cc24dfcf6bd0913501e762fd22a9f1);\n",
              "            \n",
              "        \n",
              "\n",
              "        marker_0ecf840956a7c823db9e4a5aafefcf4f.bindPopup(popup_84497a17a3d3af0422f69b5eea7c6aa1)\n",
              "        ;\n",
              "\n",
              "        \n",
              "    \n",
              "    \n",
              "            marker_0ecf840956a7c823db9e4a5aafefcf4f.bindTooltip(\n",
              "                `&lt;div&gt;\n",
              "                     Your location\n",
              "                 &lt;/div&gt;`,\n",
              "                {&quot;sticky&quot;: true}\n",
              "            );\n",
              "        \n",
              "    \n",
              "            var marker_ff529346068ef658fe5f7015076b6610 = L.marker(\n",
              "                [19.0926936, 72.85439692426203],\n",
              "                {}\n",
              "            ).addTo(map_b6b3157b821f17fd50dc3cc02b62c22b);\n",
              "        \n",
              "    \n",
              "            var icon_79d4760bc1fd4396a4f90c21c219fc7c = L.AwesomeMarkers.icon(\n",
              "                {&quot;extraClasses&quot;: &quot;fa-rotate-0&quot;, &quot;icon&quot;: &quot;info-sign&quot;, &quot;iconColor&quot;: &quot;white&quot;, &quot;markerColor&quot;: &quot;red&quot;, &quot;prefix&quot;: &quot;glyphicon&quot;}\n",
              "            );\n",
              "            marker_ff529346068ef658fe5f7015076b6610.setIcon(icon_79d4760bc1fd4396a4f90c21c219fc7c);\n",
              "        \n",
              "    \n",
              "            var marker_e1ad0f14a7b3664140498049c81055f6 = L.marker(\n",
              "                [19.2093238, 72.9163268],\n",
              "                {}\n",
              "            ).addTo(map_b6b3157b821f17fd50dc3cc02b62c22b);\n",
              "        \n",
              "    \n",
              "            var icon_85faf3153cf34ef284a74a2de8455c78 = L.AwesomeMarkers.icon(\n",
              "                {&quot;extraClasses&quot;: &quot;fa-rotate-0&quot;, &quot;icon&quot;: &quot;info-sign&quot;, &quot;iconColor&quot;: &quot;white&quot;, &quot;markerColor&quot;: &quot;red&quot;, &quot;prefix&quot;: &quot;glyphicon&quot;}\n",
              "            );\n",
              "            marker_e1ad0f14a7b3664140498049c81055f6.setIcon(icon_85faf3153cf34ef284a74a2de8455c78);\n",
              "        \n",
              "    \n",
              "            var marker_f745805a7b58c502015f262b471d9e86 = L.marker(\n",
              "                [18.9225901, 72.83433537485362],\n",
              "                {}\n",
              "            ).addTo(map_b6b3157b821f17fd50dc3cc02b62c22b);\n",
              "        \n",
              "    \n",
              "            var icon_9ea6b85dc995ed9d1238a70746bc1533 = L.AwesomeMarkers.icon(\n",
              "                {&quot;extraClasses&quot;: &quot;fa-rotate-0&quot;, &quot;icon&quot;: &quot;info-sign&quot;, &quot;iconColor&quot;: &quot;white&quot;, &quot;markerColor&quot;: &quot;red&quot;, &quot;prefix&quot;: &quot;glyphicon&quot;}\n",
              "            );\n",
              "            marker_f745805a7b58c502015f262b471d9e86.setIcon(icon_9ea6b85dc995ed9d1238a70746bc1533);\n",
              "        \n",
              "    \n",
              "            var marker_64670263c7970dd035e0be7e4a1f4a40 = L.marker(\n",
              "                [19.06240125, 72.86257506049617],\n",
              "                {}\n",
              "            ).addTo(map_b6b3157b821f17fd50dc3cc02b62c22b);\n",
              "        \n",
              "    \n",
              "            var icon_2795ecd8bfc75a8613d1ec0a6dfe949c = L.AwesomeMarkers.icon(\n",
              "                {&quot;extraClasses&quot;: &quot;fa-rotate-0&quot;, &quot;icon&quot;: &quot;info-sign&quot;, &quot;iconColor&quot;: &quot;white&quot;, &quot;markerColor&quot;: &quot;red&quot;, &quot;prefix&quot;: &quot;glyphicon&quot;}\n",
              "            );\n",
              "            marker_64670263c7970dd035e0be7e4a1f4a40.setIcon(icon_2795ecd8bfc75a8613d1ec0a6dfe949c);\n",
              "        \n",
              "&lt;/script&gt;\n",
              "&lt;/html&gt;\" style=\"position:absolute;width:100%;height:100%;left:0;top:0;border:none !important;\" allowfullscreen webkitallowfullscreen mozallowfullscreen></iframe></div></div>"
            ]
          },
          "metadata": {},
          "execution_count": 22
        }
      ]
    }
  ]
}